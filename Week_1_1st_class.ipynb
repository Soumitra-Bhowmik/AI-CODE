{
  "nbformat": 4,
  "nbformat_minor": 0,
  "metadata": {
    "colab": {
      "name": "Week-1-1st-class.ipynb",
      "provenance": [],
      "authorship_tag": "ABX9TyPVEORDUiXjorCuPrA3rV7b",
      "include_colab_link": true
    },
    "kernelspec": {
      "name": "python3",
      "display_name": "Python 3"
    },
    "accelerator": "GPU"
  },
  "cells": [
    {
      "cell_type": "markdown",
      "metadata": {
        "id": "view-in-github",
        "colab_type": "text"
      },
      "source": [
        "<a href=\"https://colab.research.google.com/github/Soumitra-Bhowmik/AI-CODE/blob/master/Week_1_1st_class.ipynb\" target=\"_parent\"><img src=\"https://colab.research.google.com/assets/colab-badge.svg\" alt=\"Open In Colab\"/></a>"
      ]
    },
    {
      "cell_type": "markdown",
      "metadata": {
        "id": "2q0d1eJlEA-J",
        "colab_type": "text"
      },
      "source": [
        "Frist program"
      ]
    },
    {
      "cell_type": "code",
      "metadata": {
        "id": "2V2A0eTuEF97",
        "colab_type": "code",
        "outputId": "3d9c41fb-5f4b-4ab4-d21a-7de2bd047d46",
        "colab": {
          "base_uri": "https://localhost:8080/",
          "height": 34
        }
      },
      "source": [
        "print(\"Welcome to my page\")"
      ],
      "execution_count": 0,
      "outputs": [
        {
          "output_type": "stream",
          "text": [
            "Welcome to my page\n"
          ],
          "name": "stdout"
        }
      ]
    }
  ]
}